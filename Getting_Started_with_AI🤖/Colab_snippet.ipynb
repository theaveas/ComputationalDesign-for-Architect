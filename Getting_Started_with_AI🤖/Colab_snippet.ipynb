{
  "nbformat": 4,
  "nbformat_minor": 0,
  "metadata": {
    "colab": {
      "name": "Colab_snippet.ipynb",
      "provenance": [],
      "collapsed_sections": [],
      "authorship_tag": "ABX9TyNhfyepZ1ytKzIQ82LNmzKm",
      "include_colab_link": true
    },
    "kernelspec": {
      "name": "python3",
      "display_name": "Python 3"
    },
    "language_info": {
      "name": "python"
    }
  },
  "cells": [
    {
      "cell_type": "markdown",
      "metadata": {
        "id": "view-in-github",
        "colab_type": "text"
      },
      "source": [
        "<a href=\"https://colab.research.google.com/github/theaveas/ComputationalDesign-for-Architect/blob/main/Colab_snippet.ipynb\" target=\"_parent\"><img src=\"https://colab.research.google.com/assets/colab-badge.svg\" alt=\"Open In Colab\"/></a>"
      ]
    },
    {
      "cell_type": "markdown",
      "source": [
        "# Google Colab Code snippet\n",
        "Notebook [Theaveas So](https://github.com/theaveas)"
      ],
      "metadata": {
        "id": "iK8xd3vl8EXQ"
      }
    },
    {
      "cell_type": "markdown",
      "source": [
        "## Mount a Google Drive"
      ],
      "metadata": {
        "id": "LPPeH92a8MR0"
      }
    },
    {
      "cell_type": "code",
      "execution_count": null,
      "metadata": {
        "id": "WHuQZmr78C_I"
      },
      "outputs": [],
      "source": [
        "from google.colab import drive\n",
        "drive.mount('/content/drive', force_remount=True)"
      ]
    },
    {
      "cell_type": "markdown",
      "source": [
        "## Preventing Time out for Non Colab Pro\n",
        "1. Open the inspector view by typing Ctrl+ Shift + i and then clicking on console tab at top.\n",
        "2. Paste the below code snippet at bottom of console and hit enter\n",
        "\n",
        "    function ClickConnect(){\\\n",
        "    console.log(\"Working\"); \\\n",
        "    document.querySelector(\"#top-toolbar > colab-connect-button\").shadowRoot.querySelector(\"#connect\").click();\\\n",
        "    }\\\n",
        "    setInterval(ClickConnect,60000)\n"
      ],
      "metadata": {
        "id": "xAy26RLh89B9"
      }
    },
    {
      "cell_type": "code",
      "source": [
        ""
      ],
      "metadata": {
        "id": "lllWF1qJ9PCe"
      },
      "execution_count": null,
      "outputs": []
    }
  ]
}